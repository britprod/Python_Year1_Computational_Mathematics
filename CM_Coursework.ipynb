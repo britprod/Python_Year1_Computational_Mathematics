{
 "cells": [
  {
   "cell_type": "markdown",
   "metadata": {
    "collapsed": true
   },
   "source": [
    "# UP902897"
   ]
  },
  {
   "cell_type": "markdown",
   "metadata": {},
   "source": [
    "# M131 Computational Mathematics Coursework \n",
    "# Deadline 5th April 17:00"
   ]
  },
  {
   "cell_type": "markdown",
   "metadata": {},
   "source": [
    "### Please select the line below and press __Shift+Enter__"
   ]
  },
  {
   "cell_type": "code",
   "execution_count": 1,
   "metadata": {
    "collapsed": true
   },
   "outputs": [],
   "source": [
    "import numpy as np #contains a lot of maths functions that we will use\n",
    "import pandas as pd # handling data \n",
    "from scipy import stats\n",
    "import matplotlib.pyplot as plt #plotting package\n",
    "from ipywidgets import interact, interactive, fixed #interactivity"
   ]
  },
  {
   "cell_type": "markdown",
   "metadata": {},
   "source": [
    "# Problem 1 (30 marks)"
   ]
  },
  {
   "cell_type": "markdown",
   "metadata": {},
   "source": [
    "a) (2 marks)\n",
    "\n",
    "In the cell below please define the following function\n",
    "$$ f(x) =e^x + \\ln(x).$$"
   ]
  },
  {
   "cell_type": "code",
   "execution_count": 2,
   "metadata": {},
   "outputs": [
    {
     "name": "stdout",
     "output_type": "stream",
     "text": [
      "2.71828182846 150.022597015\n"
     ]
    }
   ],
   "source": [
    "def f(x):#input x= any numerical value\n",
    "        return np.exp(x)+np.log(x)#output:e^x+ln(x)\n",
    "print (f(1),f(5))#test for x=1 and x=5,prints values of f for xs"
   ]
  },
  {
   "cell_type": "markdown",
   "metadata": {},
   "source": [
    "b) (3 marks)\n",
    "\n",
    "Plot the graph of $f$ in the range $[1, 5]$. "
   ]
  },
  {
   "cell_type": "code",
   "execution_count": 3,
   "metadata": {},
   "outputs": [
    {
     "data": {
      "image/png": "[encoded data removed]",
      "text/plain": [
       "<matplotlib.figure.Figure at 0x297e9217710>"
      ]
     },
     "metadata": {},
     "output_type": "display_data"
    }
   ],
   "source": [
    "arguments = np.linspace(1, 5, 100) #defines the list of arguments that will be applied to the function\n",
    "values = f(arguments) # set of values of the function, after each argument from arguments has been evaluated by it. \n",
    "plt.plot(arguments, values) # plotting function, requires two inputs: arguments and set of values\n",
    "plt.show() # this a standard line used to display the plot properly"
   ]
  },
  {
   "cell_type": "markdown",
   "metadata": {},
   "source": [
    "c) (10 marks)\n",
    "\n",
    "Now construct a Lagrange Polynomial that approximates the above $f$ given $3$ data points\n",
    "$$ (1, f(1)), (3, f(3)),  (5, f(5)).$$\n",
    "Do it with pen and paper and then define it in the cell below, call it __lag_f__. It should have only one input $x$."
   ]
  },
  {
   "cell_type": "code",
   "execution_count": 4,
   "metadata": {},
   "outputs": [
    {
     "name": "stdout",
     "output_type": "stream",
     "text": [
      "3.05806705702 144.925818587\n"
     ]
    }
   ],
   "source": [
    "def lag_f(x):\n",
    "    return (x*2-8*x+15)*(f(1)/8)+(x**2-6*x+5)*(f(3)/-4)+(x**2-4*x+3)*(f(5)/8)\n",
    "print (lag_f(1),lag_f(5))"
   ]
  },
  {
   "cell_type": "markdown",
   "metadata": {},
   "source": [
    "d) (5 marks)\n",
    "\n",
    "In the cell below plot functions $f$ and __lag_f__ in the same graph.  "
   ]
  },
  {
   "cell_type": "code",
   "execution_count": 5,
   "metadata": {},
   "outputs": [
    {
     "data": {
      "image/png": "[encoded data removed]",
      "text/plain": [
       "<matplotlib.figure.Figure at 0x297e96972b0>"
      ]
     },
     "metadata": {},
     "output_type": "display_data"
    }
   ],
   "source": [
    "arguments = np.linspace(1, 5, 100)#first argument, last argument,and number of arguments \n",
    "values_f = f(arguments)\n",
    "values_lag_f = lag_f(arguments)\n",
    "plt.plot(arguments, values_f,label = \"$f(x)$\")#plots arguments against f values,label to f(x)\n",
    "plt.plot(arguments, values_lag_f,label = \"$\\mathcal{L}(x)$\")#plots arguments against lag f values,label to Lagrange approximation\n",
    "plt.legend()#displays the legend \n",
    "plt.show()"
   ]
  },
  {
   "cell_type": "markdown",
   "metadata": {},
   "source": [
    "e) (10 marks)\n",
    "\n",
    "By using Simpson's rule approximate the following error areas\n",
    "$$ \\int_1^3 \\left(f(x) - \\mathcal{L}(x)\\right) \\mathrm{d}x + \\int_3^5 \\left( \\mathcal{L}(x) - f(x) \\right) \\mathrm{d}x,$$\n",
    "where $\\mathcal{L}$ is the Lagrange interpolation polynomial that you defined earlier as __lag_f__. \n",
    "You may want to use the code for Simpson's rule from the labs. Please print your results. "
   ]
  },
  {
   "cell_type": "code",
   "execution_count": 6,
   "metadata": {},
   "outputs": [
    {
     "name": "stdout",
     "output_type": "stream",
     "text": [
      "29.9922675568\n"
     ]
    }
   ],
   "source": [
    "def simpsons(a,b,n):#a,b are integral limits, n= number of steps  \n",
    "    h = (b-a)/n #defines step\n",
    "    total = abs(f(a)-lag_f(a))#f(x0)-L(x0)\n",
    "    for k in range(1, n):# k ranges from 1 to n-1\n",
    "        a += h #a increased by a step\n",
    "        if k%2==0: #even (f(x2)-L(x2)...\n",
    "            total += 2*(abs(f(a)-lag_f(a)))\n",
    "        else: # not even f(x1)-L(x1)...\n",
    "            total += 4*(abs(f(a)-lag_f(a)))\n",
    "            \n",
    "    total = total + abs(f(b)-lag_f(b))#f(xn)-L(xn)\n",
    "    return h/3*total \n",
    "print (simpsons(1,5,10000))#more steps, greater accuracy\n",
    "#have used absolute value, as I think it gives better approximation of error areas and it can be done at once.\n",
    "#Below it is splitted into two approximations and added together"
   ]
  },
  {
   "cell_type": "code",
   "execution_count": 7,
   "metadata": {},
   "outputs": [
    {
     "name": "stdout",
     "output_type": "stream",
     "text": [
      "13.3826144761\n"
     ]
    }
   ],
   "source": [
    "def simpsons1(a,b,n):  \n",
    "    h = (b-a)/n \n",
    "    total =(f(a)-lag_f(a)) \n",
    "    for k in range(1, n):\n",
    "        a += h \n",
    "        if k%2==0: \n",
    "            total += 2*(f(a)-lag_f(a))\n",
    "        else: \n",
    "            total += 4*((f(a)-lag_f(a)))\n",
    "            \n",
    "    total = total + (f(b)-lag_f(b))\n",
    "    return h/3*total \n",
    "print (simpsons1(1,3,10000))"
   ]
  },
  {
   "cell_type": "code",
   "execution_count": 8,
   "metadata": {},
   "outputs": [
    {
     "name": "stdout",
     "output_type": "stream",
     "text": [
      "29.4518686148\n"
     ]
    }
   ],
   "source": [
    "def simpsons2(a,b,n):  \n",
    "    h = (b-a)/n \n",
    "    total =-(f(a)-lag_f(a))\n",
    "    for k in range(1, n):\n",
    "        a += h \n",
    "        if k%2==0: \n",
    "            total += 2*-(f(a)-lag_f(a))\n",
    "        else: \n",
    "            total += 4*-((f(a)-lag_f(a)))\n",
    "            \n",
    "    total = total-(f(b)-lag_f(b))\n",
    "    return h/3*total \n",
    "print (simpsons2(3,5,10000)+simpsons1(1,3,10000))"
   ]
  },
  {
   "cell_type": "markdown",
   "metadata": {},
   "source": [
    "# Problem 2 (35 marks)"
   ]
  },
  {
   "cell_type": "markdown",
   "metadata": {},
   "source": [
    "a) (10 marks)\n",
    "\n",
    "Let $D$ be a given function and $D_h$, $h >0$, be its approximation on the interval $[a, b]$ for $-\\infty<a<b<\\infty$. Also assume that there exists $n \\in \\mathbb{N}$ such that the approximation error is $D(x) - D_h(x) = O(h^n)$ as $h \\to 0$ for all $x \\in [a, b]$.\n",
    "\n",
    "In the cell below write a function __rich_extrapol__ that implements Richardson extrapolation formula\n",
    "$$ R(x, h, k) = \\frac{k^nD_h(x) - D_{kh}(x)}{k^n - 1},$$\n",
    "where $x \\in [a, b]$, $h>0$, $k>1$.\n",
    "\n",
    "Your function should have the following inputs\n",
    "- x, a float, \n",
    "- h, a float (small number), \n",
    "- k, an integer, \n",
    "- Dh, a function of x and h (to allow you getting $D_h$ and $D_{kh}$),\n",
    "- n, an integer such that $D(x) - D_h(x) = O(h^n)$ as $h \\to 0$."
   ]
  },
  {
   "cell_type": "code",
   "execution_count": 9,
   "metadata": {
    "collapsed": true
   },
   "outputs": [],
   "source": [
    "def rich_extrapol(x,h,k,Dh,n):\n",
    "    kh=k*h#for Dkh h is multiplied by k\n",
    "    Dkh=Dh(x,kh)#same function, different variable\n",
    "    return (k**n*Dh(x,h)-Dkh)/(k**n-1) "
   ]
  },
  {
   "cell_type": "markdown",
   "metadata": {},
   "source": [
    "b) (6 marks)\n",
    "\n",
    "In the cell below, define $g(x) = \\sin(xe^x)$, also find its derivative (with pen and paper) and define it as __dev_g__.  "
   ]
  },
  {
   "cell_type": "code",
   "execution_count": 10,
   "metadata": {},
   "outputs": [
    {
     "name": "stdout",
     "output_type": "stream",
     "text": [
      "0.0 1.0\n"
     ]
    }
   ],
   "source": [
    "def g(x):\n",
    "    return np.sin(x*np.exp(x))\n",
    "def dev_g(x):\n",
    "    return np.cos(x*np.exp(x))*(np.exp(x)+x*np.exp(x))\n",
    "x=0\n",
    "print(g(x),dev_g(x))"
   ]
  },
  {
   "cell_type": "markdown",
   "metadata": {},
   "source": [
    "c) (4 marks)\n",
    "\n",
    "In the cell below, define a function __num_diff__ with 3 inputs\n",
    "- f, a function, \n",
    "- x, a float,\n",
    "- h, a float (small number), \n",
    "\n",
    "that returns \n",
    "$$ \\frac{f(x+h)- f(x-h)}{2h}.$$\n"
   ]
  },
  {
   "cell_type": "code",
   "execution_count": 11,
   "metadata": {},
   "outputs": [
    {
     "name": "stdout",
     "output_type": "stream",
     "text": [
      "1.00326287664\n"
     ]
    }
   ],
   "source": [
    "def num_diff(f,x,h):\n",
    "    return (f(x+h)-f(x-h))/(2*h)\n",
    "print (num_diff(g,0,0.1))"
   ]
  },
  {
   "cell_type": "markdown",
   "metadata": {},
   "source": [
    "d) (15 marks)\n",
    "\n",
    "We will be approximating $g^{\\prime}(x)$ by $R(x, h, k)$, where\n",
    "$$D(x) = g^{\\prime}(x) \\mbox{ and } D_h(x) =  \\frac{g(x+h)- g(x-h)}{2h}.$$\n",
    "\n",
    "Plot both functions $g^{\\prime}(x)$ and $R(x, h, k)$ in the same graph, make the plot interactive with respect to $h$ and $k$;\n",
    "- make your x-axis to range between $1$ and $3$, \n",
    "- your $h$ should takes values from $0.01$ to $0.1$ with increment $0.01$,\n",
    "- your $k$ should take values from $2$ to $10$ with increment $1$."
   ]
  },
  {
   "cell_type": "code",
   "execution_count": 12,
   "metadata": {
    "collapsed": true
   },
   "outputs": [],
   "source": [
    "n=2 #error is O(h^2) as h tends to zero\n",
    "\n",
    "def Dh(x,h):#num_diff function with g function as an input\n",
    "    return num_diff(g,x,h)\n",
    "\n",
    "def D(x):#does not need to be here, dev_g will be used instead\n",
    "    return dev_g(x)"
   ]
  },
  {
   "cell_type": "code",
   "execution_count": 13,
   "metadata": {},
   "outputs": [
    {
     "data": {
      "application/vnd.jupyter.widget-view+json": {
       "model_id": "b80928a955984fb5a927fb69865e4fe1"
      }
     },
     "metadata": {},
     "output_type": "display_data"
    }
   ],
   "source": [
    "def int_graphs(h,k):\n",
    "    arguments=np.linspace(1,3,1000)\n",
    "    plt.plot(arguments,dev_g(arguments),label=\"$g\\prime(x)$\")\n",
    "    R_vals=[rich_extrapol(item,h,k,Dh,n)for item in arguments]#list of values for R evaluated at every argument\n",
    "    plt.plot(arguments,R_vals,label=\"R(x,h,k)\")\n",
    "    plt.legend()\n",
    "    plt.show()\n",
    "vals_h = (0.01,0.1,0.01)#range of values for h with increment\n",
    "vals_k = (2,10,1)#range of values for k with increment\n",
    "interactive_plot = interactive(int_graphs,h=vals_h,k=vals_k)\n",
    "interactive_plot\n",
    "\n",
    "# sometimes slider for k does not change the graph of R at all, not sure why"
   ]
  },
  {
   "cell_type": "markdown",
   "metadata": {},
   "source": [
    "# Problem 3 (35 marks)"
   ]
  },
  {
   "cell_type": "markdown",
   "metadata": {},
   "source": [
    "There are $n \\in \\mathbb{N}$ houses on the Elm Grove street. \n",
    "\n",
    "### Police \n",
    "Police officer is pursuing a suspect, however due to limited resources only certain time $N$ (number of steps) can be dedicated to this pursuit.  Police officer is performing the following simple random walk taking $N$ steps:\n",
    "$$X_{k +1} = \\begin{cases}X_k + 1  \\ ( \\! \\! \\mod n) &\\mbox{ with probability } p \\\\ X_{k} - 1 \\ (\\! \\! \\mod n) &\\mbox{ with probability } 1-p  \\end{cases}$$\n",
    "given that $X_0 = 0$, for $k \\in \\{0, \\ldots, N-1\\}$. When officer lands at node (house) $k$ he automatically performs a search and if the suspect is at the same location (house) then the pursuit ends. \n",
    "\n",
    "### Suspect\n",
    "The suspect is trying to run away, he performs the following simple random walk \n",
    "$$Y_{k +1} = \\begin{cases}Y_k + 1  \\ ( \\! \\! \\mod n) &\\mbox{ with probability } q \\\\ X_{k} - 1 \\ (\\! \\! \\mod n) &\\mbox{ with probability } 1-q  \\end{cases}$$\n",
    "given that $Y_0 = n-1$, for $k \\in \\{0, \\ldots, N-1\\}$.\n",
    "If the suspect and police officer meet at the same location at some time $k$, the suspect is immediately arrested and the pursuit ends. "
   ]
  },
  {
   "cell_type": "markdown",
   "metadata": {},
   "source": [
    "a) (10 marks)\n",
    "\n",
    "In the cell below please write a function __random_walk__ that performs the above random walk (either one is good, we will have an initial position of the walk,$X_0$ or $Y_0$, as an input) and has the following inputs\n",
    "- start, an integer, the initial position of the walker, \n",
    "- n, an integer, \n",
    "- N, an integer, \n",
    "- prob, a float that represents a probability (e.g. either $p$ or $q$).\n",
    "\n",
    "Your function should return a list of $N$ elements that represents the houses visited by either police office or a suspect during the time $N$ (number of steps in a walk). "
   ]
  },
  {
   "cell_type": "code",
   "execution_count": 14,
   "metadata": {
    "collapsed": true
   },
   "outputs": [],
   "source": [
    "def random_walk(start,n,N,prob):\n",
    "    Y0=start # initial position of the walker(X0 or Y0)\n",
    "    Yk=Y0\n",
    "    houses=[]# empty list, no N steps done\n",
    "    for k in range(1,N+1):# to make it more clear, Y1,Y2,...,Yn (N steps)\n",
    "        step = np.random.choice([-1, 1], p=[1-prob, prob])#list [-1,1] and probabilities for elements of this list\n",
    "        Yk+=step \n",
    "        Yk=Yk%n # Considering houses from 0 to n-1, number can`t be greater than number of houses on the street or negative \n",
    "                # It leaves the remainder from division Yk by n (Yk (mod n)).\n",
    "                #In Python % always return a number having the same sign as the divisor. Therefore, no other conditions.\n",
    "        houses.append(Yk)# adds element(house visited) to the list\n",
    "    return houses #returns the list"
   ]
  },
  {
   "cell_type": "code",
   "execution_count": 15,
   "metadata": {},
   "outputs": [
    {
     "name": "stdout",
     "output_type": "stream",
     "text": [
      "[9, 8, 7, 6, 5, 4, 5, 4, 5, 6, 5, 6, 7, 6, 7, 8, 9, 0, 1, 2]\n"
     ]
    }
   ],
   "source": [
    "print (random_walk(0,10,20,0.5))"
   ]
  },
  {
   "cell_type": "markdown",
   "metadata": {},
   "source": [
    "b) (5 marks)\n",
    "\n",
    "By using the above __random_walk__ function produce two graphs, an example of the walks by the officer and the suspect. \n",
    "Choose $n = 10$, $N = 100$, $p = 0.75$, $q = 0.25$."
   ]
  },
  {
   "cell_type": "code",
   "execution_count": 16,
   "metadata": {},
   "outputs": [
    {
     "data": {
      "image/png": "[encoded data removed]",
      "text/plain": [
       "<matplotlib.figure.Figure at 0x297eaa89438>"
      ]
     },
     "metadata": {},
     "output_type": "display_data"
    }
   ],
   "source": [
    "n=10       \n",
    "N=100\n",
    "prob=0.25\n",
    "start=n-1 \n",
    "x_vals = np.arange(N) #sequence of N evenly spaced values from 0 to N-1, stored as an array object.\n",
    "values_pol = random_walk(n,n,N,1-prob)# list of houses visited by the officer.(n(mod n)=0,X0=0)\n",
    "values_sus = random_walk(start,n,N,prob)# list of houses visited by the suspect.\n",
    "plt.plot(x_vals, values_pol,label = \"$Officer$\")\n",
    "plt.plot(x_vals, values_sus,label = \"$Suspect$\")\n",
    "plt.legend() \n",
    "plt.show()"
   ]
  },
  {
   "cell_type": "markdown",
   "metadata": {},
   "source": [
    "c) (10 marks)\n",
    "\n",
    "In the cell below please write a function __prison_or_freedom__ that has the following inputs, \n",
    "- n, an integer, the number of houses.\n",
    "- N, an integer, the maximum number of steps.\n",
    "- p, a float, a probability for the officer.\n",
    "- q, a float, a probability for the suspect.\n",
    "\n",
    "In your function you should create two lists, officer's and suspect's walk by using __random_walk__ function. If at any time (index) $k \\in \\{0, \\ldots, N-1\\}$, the values of these list at $k$ are the same you should return $1$ (immediately breaking the loop) and $0$ if for all $k$ the values (of these lists at $k$) are different. "
   ]
  },
  {
   "cell_type": "code",
   "execution_count": 17,
   "metadata": {},
   "outputs": [
    {
     "name": "stdout",
     "output_type": "stream",
     "text": [
      "1 0\n"
     ]
    }
   ],
   "source": [
    "def prison_or_freedom(n,N,p,q):\n",
    "    police=random_walk(n,n,N,p)# n(mod n)=0, starting position for officer\n",
    "    suspect=random_walk(n-1,n,N,q)\n",
    "    for k in range (N): #k ranges from 0 to N-1\n",
    "        if police[k]==suspect[k]:# if they are both in the same house at the same time (k)\n",
    "            return 1 # returns 1 \n",
    "            break # breaks the loop\n",
    "    return 0 # returns 0, unless the above condition was satisfied\n",
    "        \n",
    "print (prison_or_freedom(9,100,0.75,0.25),prison_or_freedom(10,100,0.75,0.25))\n",
    "# suspect will never get cought when the number of houses(n) is even, no matter the resources, I like the idea :)    "
   ]
  },
  {
   "cell_type": "markdown",
   "metadata": {},
   "source": [
    "d) (10 marks)\n",
    "\n",
    "In the cell below write a function __exper_prob__ that has 4 inputs\n",
    "- M, an integer, number of trials,\n",
    "- n, an integer, the number of houses, \n",
    "- N, an integer, the maximum number of steps,\n",
    "- p, a float, a probability for the officer,\n",
    "- q, a float, a probability for the suspect.\n",
    "\n",
    "This function should perform $M \\in \\mathbb{N}$ (a big number e.g. $M= 1000$) experiments of the __prison_or_freedom__ function, and make a record of each experiment by assigning the value returned by __prison_or_freedom__ to a list. Use this list to find an approximate probability that a suspect is caught in $N$ searches. Your function should return this probability. \n",
    "\n",
    "Print the obtained probability for the following inputs\n",
    "- fix $n$ to be 11 times the last digit of your Student ID plus seven, that is, $ 11 \\cdot (\\mbox{last digit} + 7). $  \n",
    "- fix $N$ to be first 2 digits of your Student ID number, \n",
    "- set $M = 1000$, \n",
    "- $p=0.75$,\n",
    "- $q=0.25$."
   ]
  },
  {
   "cell_type": "code",
   "execution_count": 18,
   "metadata": {
    "collapsed": true
   },
   "outputs": [],
   "source": [
    "def exper_prob(M,n,N,p,q):\n",
    "    experiments=[]\n",
    "    for k in range (M):\n",
    "        experiments.append(prison_or_freedom(n,N,p,q))\n",
    "    caught=0\n",
    "    for item in experiments:\n",
    "        caught+=item\n",
    "    probability=caught/M\n",
    "    return probability"
   ]
  },
  {
   "cell_type": "code",
   "execution_count": 19,
   "metadata": {},
   "outputs": [
    {
     "name": "stdout",
     "output_type": "stream",
     "text": [
      "90 154 0.0\n"
     ]
    }
   ],
   "source": [
    "student_number=[9,0,2,8,9,7]\n",
    "n=11*(student_number[-1]+7)\n",
    "N=10*student_number[0]+student_number[1]\n",
    "M=1000\n",
    "p=0.75\n",
    "q=0.25\n",
    "\n",
    "print (N,n,exper_prob(M,n,N,p,q))"
   ]
  },
  {
   "cell_type": "code",
   "execution_count": 20,
   "metadata": {
    "collapsed": true
   },
   "outputs": [],
   "source": [
    "# In my case it is definitely freedom, suspect will never get cought because even number of houses,\n",
    "# suspect will be always in 'odd' house, officer in 'even' house. \n",
    "# Even if I change the number of houses to 'odd' by adding/removing 1, it is impossible they will meet, \n",
    "# because number of houses is greater than number of steps and difference between them is too big(considering probs)."
   ]
  }
 ],
 "metadata": {
  "kernelspec": {
   "display_name": "Python 3 (ipykernel)",
   "language": "python",
   "name": "python3"
  },
  "language_info": {
   "codemirror_mode": {
    "name": "ipython",
    "version": 3
   },
   "file_extension": ".py",
   "mimetype": "text/x-python",
   "name": "python",
   "nbconvert_exporter": "python",
   "pygments_lexer": "ipython3",
   "version": "3.9.12"
  }
 },
 "nbformat": 4,
 "nbformat_minor": 2
}
