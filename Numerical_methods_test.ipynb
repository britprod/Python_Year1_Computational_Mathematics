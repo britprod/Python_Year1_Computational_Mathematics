{
 "cells": [
  {
   "cell_type": "code",
   "execution_count": 1,
   "metadata": {},
   "outputs": [],
   "source": [
    "import random\n",
    "from math import *"
   ]
  },
  {
   "cell_type": "markdown",
   "metadata": {},
   "source": [
    "# Numerical Methods "
   ]
  },
  {
   "cell_type": "markdown",
   "metadata": {},
   "source": [
    "# Problem 1"
   ]
  },
  {
   "cell_type": "markdown",
   "metadata": {},
   "source": [
    " Your task is to use Newton's (Newton-Raphson) method to approximate $\\log_2(5)$. You will find the solution of $f(x) = 0$, where $f(x) = 2^x - 5$. \n",
    "\n",
    "Write a function __approx_log__ with the following inputs\n",
    "-  $x0$, a float, initial approximation, \n",
    "-  $eps$, a float, the error in approximation,\n",
    "-  $n$, an integer, the number of steps.\n",
    "\n",
    "Your function should return the approximated solution $x$ such that \n",
    "$$|f(x)|< eps,$$\n",
    "where $f(x)=2^x - 5$. \n",
    "\t\n",
    "Using any in-built functions to produce a log is not allowed. Your function should use the Newton's method, so you will need to implement it.  \n",
    "\n",
    "You are allowed to write as many helper functions as you need. "
   ]
  },
  {
   "cell_type": "code",
   "execution_count": 2,
   "metadata": {},
   "outputs": [],
   "source": [
    "def f(x):\n",
    "    return 2**x - 5\n",
    "\n",
    "def diff(x, f):\n",
    "    h = 0.01\n",
    "    return (f(x+h)-f(x))/h\n",
    "\n",
    "\n",
    "def newton(x0, eps, n, f):\n",
    "    for k in range(n):\n",
    "        x0 = x0 - f(x0)/diff(x0, f)\n",
    "        if abs(f(x0))<eps:\n",
    "            return x0\n",
    "    return x0 \n",
    "\n",
    "def approx_log(x0, eps, n):\n",
    "    return newton(x0, eps, n, f)"
   ]
  },
  {
   "cell_type": "code",
   "execution_count": 3,
   "metadata": {},
   "outputs": [
    {
     "name": "stdout",
     "output_type": "stream",
     "text": [
      "2.3219294892873945 2.321928094887362\n"
     ]
    }
   ],
   "source": [
    "x0 = 10.0\n",
    "eps = 0.001\n",
    "n = 100\n",
    "print(approx_log(x0, eps, n), log(5)/log(2))"
   ]
  },
  {
   "cell_type": "markdown",
   "metadata": {},
   "source": [
    "# Problem 2"
   ]
  },
  {
   "cell_type": "markdown",
   "metadata": {},
   "source": [
    "Complete the function __draw_sum__ such that is has $3$ inputs:\n",
    "- $t$, a float.\n",
    "- $N$, number of points drawn from the interval $[0, 1]$.\n",
    "- $n$, number of trials of your experiment.  \n",
    "\n",
    "Your function should implement the following experiment,\n",
    "please draw $N$ points uniformly (with replacement) from the interval $[0, 1]$ and then sum them up.  \n",
    "\n",
    "We wish to find the probability that the sum of the points that you drew is greater than $t$ (your input variable). Please perform $n$ number of independent trials to approximate this probability.\n",
    "\n",
    "\n",
    "In order to draw points uniformly (with replacement) from an interval $[a,b]$ please __import random__ and use __random.uniform(a, b)__.\n",
    "\n",
    "You are allowed to write as many helper functions as you need. "
   ]
  },
  {
   "cell_type": "code",
   "execution_count": 4,
   "metadata": {},
   "outputs": [
    {
     "name": "stdout",
     "output_type": "stream",
     "text": [
      "0.833\n"
     ]
    }
   ],
   "source": [
    "def draw_sum(t, N, n):\n",
    "    count = 0\n",
    "    for j in range(n):\n",
    "        rand_points = [random.uniform(0, 1) for k in range(N)]\n",
    "        sum_points = sum(rand_points)\n",
    "        if sum_points>t:\n",
    "            count = count+1 \n",
    "    return count/n\n",
    "\n",
    "\n",
    "print(draw_sum(1, 3, 1000))"
   ]
  },
  {
   "cell_type": "markdown",
   "metadata": {},
   "source": [
    "# Problem 3"
   ]
  },
  {
   "cell_type": "markdown",
   "metadata": {},
   "source": [
    " Your task is to use bisection method to approximate $\\sqrt[3]{7}$. You will find the solution of $f(x) = 0$, where $f(x) = x^3 - 7$. \n",
    "Write a function __approx_root__ with the following inputs\n",
    "- $a$, a float, beginning of an interval. \n",
    "- $b$, a float, end of an interval. \n",
    "-  $eps$, a float, the error in approximation,\n",
    "\n",
    "\tYour function should return the approximated solution $x$ whenever the length of the bisection interval \n",
    "\tis less than two times $eps$; for that please use \n",
    " $$\\verb|int(ceil(log(abs(b-a)/eps)/log(2)-1))| $$\n",
    " \n",
    " as a number of steps in your for loop.\n",
    "\n",
    "\t For __log__ and __ceil__ use __from math import log, ceil__.\n",
    "\tUsing any in-built functions ( **(1/3)) to produce a root is not allowed.) Your function should use the bisection method, so you will need to implement it.\n",
    "    \n",
    "\tYou are allowed to write as many helper functions as you need."
   ]
  },
  {
   "cell_type": "code",
   "execution_count": 5,
   "metadata": {},
   "outputs": [],
   "source": [
    "def f(x):\n",
    "    return x**3-7"
   ]
  },
  {
   "cell_type": "code",
   "execution_count": 6,
   "metadata": {},
   "outputs": [],
   "source": [
    "def approx_root(a,b,eps):\n",
    "    if f(a)*f(b)>0:\n",
    "        return False\n",
    "    bound=log(abs(b-a)/eps)/(log(2)-1)\n",
    "    c=(a+b)/2\n",
    "    while int(ceil(bound))>=2*eps:\n",
    "        if f(a)*f(c)<=0:\n",
    "            b=c\n",
    "        else:\n",
    "            a=c\n",
    "        c=(a+b)/2\n",
    "    return c"
   ]
  },
  {
   "cell_type": "code",
   "execution_count": 7,
   "metadata": {},
   "outputs": [
    {
     "name": "stdout",
     "output_type": "stream",
     "text": [
      "5.0\n"
     ]
    }
   ],
   "source": [
    "print (approx_root(0,10,0.001))"
   ]
  },
  {
   "cell_type": "markdown",
   "metadata": {},
   "source": [
    "# Problem 4"
   ]
  },
  {
   "cell_type": "markdown",
   "metadata": {},
   "source": [
    "Complete the function __simpsons__ such that is has $4$ inputs:\n",
    "- $f$, a function, \n",
    "- $a$, beginning of interval,\n",
    "- $b$, end of interval, \n",
    "- $n$, number of steps, an even number. \n",
    "\n",
    "\tYour function should implement the Simpson's rule stated below, and return the approximate value for $\\int_a^b f(x) \\mathrm{d}x$. \n",
    "\t\n",
    "\tLet $f$ be an integrable function $f$, $-\\infty< a \\leq b < \\infty$ and $n \\in \\mathbb{N}$. Simpson's rule is given by\n",
    "\t\\begin{align*}\\int_a^{b} f(x) dx \\approx& \\frac{h}{3} \\left( f(x_0)+ 4f(x_1) + 2f(x_2) + 4f(x_3)\\right. \\\\ &\\left.+ \\cdots + 2f(x_{n-2}) + 4f(x_{n-1})+f(x_n) \\right),\\end{align*}\n",
    "\twhere $h = \\frac{b-a}{n}$ and\n",
    "\t$$x_0=a, x_1 = x_0+ h, \\ldots, x_{n-1} = b - h, x_n = b.$$\n",
    "\n",
    "You are allowed to write as many helper functions as you need. "
   ]
  },
  {
   "cell_type": "code",
   "execution_count": 8,
   "metadata": {},
   "outputs": [],
   "source": [
    "def simpsons(f,a,b,n):\n",
    "    h=(b-a)/n\n",
    "    xk=a\n",
    "    total=f(xk)\n",
    "    for k in range(1,n):\n",
    "        xk+=h\n",
    "        if k%2!=0:\n",
    "            total+=4*f(xk)\n",
    "        else:\n",
    "            total+=2*f(xk)\n",
    "    total+=f(b)\n",
    "    return total*(h/3)"
   ]
  },
  {
   "cell_type": "code",
   "execution_count": 9,
   "metadata": {},
   "outputs": [
    {
     "name": "stdout",
     "output_type": "stream",
     "text": [
      "29.999999999999996\n"
     ]
    }
   ],
   "source": [
    "def f(x):\n",
    "    return x**2+3\n",
    "a=1\n",
    "b=4\n",
    "n=1000\n",
    "print (simpsons(f,a,b,n))"
   ]
  }
 ],
 "metadata": {
  "kernelspec": {
   "display_name": "Python 3 (ipykernel)",
   "language": "python",
   "name": "python3"
  },
  "language_info": {
   "codemirror_mode": {
    "name": "ipython",
    "version": 3
   },
   "file_extension": ".py",
   "mimetype": "text/x-python",
   "name": "python",
   "nbconvert_exporter": "python",
   "pygments_lexer": "ipython3",
   "version": "3.9.12"
  }
 },
 "nbformat": 4,
 "nbformat_minor": 2
}
